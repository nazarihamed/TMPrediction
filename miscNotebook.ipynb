{
 "cells": [
  {
   "cell_type": "code",
   "execution_count": 1,
   "metadata": {},
   "outputs": [],
   "source": [
    "import json, ast\n",
    "import os"
   ]
  },
  {
   "cell_type": "code",
   "execution_count": 2,
   "metadata": {},
   "outputs": [],
   "source": [
    "graph_dict = {'weight': 0, 'source': 1, 'target': 1}, {'weight': 1, 'source': 1, 'target': 2}, {'weight': 0, 'source': 2, 'target': 2}, {'weight': 1, 'source': 2, 'target': 1}, {'weight': 1, 'source': 2, 'target': 3}, {'weight': 1, 'source': 2, 'target': 4}, {'weight': 0, 'source': 3, 'target': 3}, {'weight': 1, 'source': 3, 'target': 2}, {'weight': 0, 'source': 4, 'target': 4}, {'weight': 1, 'source': 4, 'target': 2}, {'weight': 1, 'source': 4, 'target': 3}"
   ]
  },
  {
   "cell_type": "code",
   "execution_count": 6,
   "metadata": {},
   "outputs": [],
   "source": [
    "installed_paths={1: {}, 2: {}, 3: {}, 4: {1:[]}}\n"
   ]
  },
  {
   "cell_type": "code",
   "execution_count": 7,
   "metadata": {},
   "outputs": [
    {
     "name": "stdout",
     "output_type": "stream",
     "text": [
      "False\n"
     ]
    }
   ],
   "source": [
    "src_sw=4\n",
    "dst_sw=1\n",
    "if installed_paths != None and installed_paths[src_sw].keys() != None:\n",
    "    if installed_paths[src_sw][dst_sw] != []:\n",
    "        print(True)\n",
    "    else:\n",
    "        print(False)\n",
    "            "
   ]
  },
  {
   "cell_type": "code",
   "execution_count": 4,
   "metadata": {},
   "outputs": [],
   "source": [
    "file_graph = 'paths/graph_Nodes.json'\n",
    "os.makedirs(os.path.dirname(file_graph), exist_ok=True)\n",
    "with open(file_graph,'w') as json_file:\n",
    "    json.dump(graph_dict, json_file, indent=2)"
   ]
  },
  {
   "cell_type": "code",
   "execution_count": 2,
   "metadata": {},
   "outputs": [],
   "source": [
    "file = '/home/csnetuofr/monitoring/DRL/32nodes/k_paths.json'\n",
    "with open(file,'r') as json_file:\n",
    "    k_shortest_paths = json.load(json_file)\n",
    "    k_shortest_paths = ast.literal_eval(json.dumps(k_shortest_paths))\n"
   ]
  },
  {
   "cell_type": "code",
   "execution_count": 3,
   "metadata": {},
   "outputs": [],
   "source": [
    "k_shortest_path={}\n",
    "for src in range(1,33):\n",
    "    k_shortest_path.setdefault(str(src),{})\n",
    "    for dst in range(1,33):\n",
    "        if src != dst:\n",
    "            k_shortest_path[str(src)][str(dst)]=k_shortest_paths[str(src)][str(dst)][0]"
   ]
  },
  {
   "cell_type": "code",
   "execution_count": 4,
   "metadata": {},
   "outputs": [],
   "source": [
    "with open('/home/csnetuofr/monitoring/DRL/32nodes/dr_path.json','w') as json_file:\n",
    "        json.dump(k_shortest_path, json_file, indent=2) "
   ]
  },
  {
   "cell_type": "code",
   "execution_count": 5,
   "metadata": {},
   "outputs": [],
   "source": [
    "a = {(1, 4):[1,2,4,5]}"
   ]
  },
  {
   "cell_type": "code",
   "execution_count": 8,
   "metadata": {},
   "outputs": [
    {
     "data": {
      "text/plain": [
       "[1, 2, 4, 5]"
      ]
     },
     "execution_count": 8,
     "metadata": {},
     "output_type": "execute_result"
    }
   ],
   "source": [
    "a[(1, 4)]"
   ]
  },
  {
   "cell_type": "code",
   "execution_count": 1,
   "metadata": {},
   "outputs": [],
   "source": [
    "import os, setting,csv"
   ]
  },
  {
   "cell_type": "code",
   "execution_count": 4,
   "metadata": {},
   "outputs": [
    {
     "ename": "AttributeError",
     "evalue": "'list' object has no attribute 'encode'",
     "output_type": "error",
     "traceback": [
      "\u001b[0;31m---------------------------------------------------------------------------\u001b[0m",
      "\u001b[0;31mAttributeError\u001b[0m                            Traceback (most recent call last)",
      "Cell \u001b[0;32mIn[4], line 8\u001b[0m\n\u001b[1;32m      6\u001b[0m file \u001b[39m=\u001b[39m csv\u001b[39m.\u001b[39mwriter(csvfile, delimiter\u001b[39m=\u001b[39m\u001b[39m'\u001b[39m\u001b[39m,\u001b[39m\u001b[39m'\u001b[39m,quotechar\u001b[39m=\u001b[39m\u001b[39m'\u001b[39m\u001b[39m|\u001b[39m\u001b[39m'\u001b[39m, quoting\u001b[39m=\u001b[39mcsv\u001b[39m.\u001b[39mQUOTE_MINIMAL)\n\u001b[1;32m      7\u001b[0m links_in \u001b[39m=\u001b[39m []\n\u001b[0;32m----> 8\u001b[0m file\u001b[39m.\u001b[39mwriterow(header_names\u001b[39m.\u001b[39;49mencode())\n",
      "\u001b[0;31mAttributeError\u001b[0m: 'list' object has no attribute 'encode'"
     ]
    }
   ],
   "source": [
    "file_net_info = setting.PATH_TO_FILES+\"/DRL/32nodes/net_info/net_info.csv\"\n",
    "os.makedirs(os.path.dirname(file_net_info), exist_ok=True)\n",
    "with open(file_net_info,'wb') as csvfile:\n",
    "    \n",
    "    header_names = ['node1'.encode(),'node2'.encode(),'bwd'.encode(),'delay'.encode(),'pkloss'.encode()]\n",
    "    file = csv.writer(csvfile, delimiter=',',quotechar='|', quoting=csv.QUOTE_MINIMAL)\n",
    "    links_in = []\n",
    "    file.writerow(header_names)"
   ]
  },
  {
   "cell_type": "code",
   "execution_count": 24,
   "metadata": {},
   "outputs": [],
   "source": [
    "from datetime import datetime"
   ]
  },
  {
   "cell_type": "code",
   "execution_count": 5,
   "metadata": {},
   "outputs": [
    {
     "data": {
      "text/plain": [
       "datetime.datetime(2023, 1, 23, 23, 39, 34, 177974)"
      ]
     },
     "execution_count": 5,
     "metadata": {},
     "output_type": "execute_result"
    }
   ],
   "source": [
    "datetime.now()"
   ]
  },
  {
   "cell_type": "code",
   "execution_count": 1,
   "metadata": {},
   "outputs": [],
   "source": [
    "import numpy as np\n"
   ]
  },
  {
   "cell_type": "code",
   "execution_count": 22,
   "metadata": {},
   "outputs": [],
   "source": [
    "a=[datetime.now().strftime(format = '%Y-%m-%d %H:%M:%S,')]\n",
    "b=(np.zeros(4))\n",
    "# b=list(np.zeros(4))"
   ]
  },
  {
   "cell_type": "code",
   "execution_count": 23,
   "metadata": {},
   "outputs": [
    {
     "ename": "UFuncTypeError",
     "evalue": "ufunc 'add' did not contain a loop with signature matching types (dtype('<U20'), dtype('float64')) -> None",
     "output_type": "error",
     "traceback": [
      "\u001b[0;31m---------------------------------------------------------------------------\u001b[0m",
      "\u001b[0;31mUFuncTypeError\u001b[0m                            Traceback (most recent call last)",
      "Cell \u001b[0;32mIn[23], line 1\u001b[0m\n\u001b[0;32m----> 1\u001b[0m a\u001b[39m+\u001b[39;49mb\n",
      "\u001b[0;31mUFuncTypeError\u001b[0m: ufunc 'add' did not contain a loop with signature matching types (dtype('<U20'), dtype('float64')) -> None"
     ]
    }
   ],
   "source": [
    "a+b"
   ]
  },
  {
   "cell_type": "code",
   "execution_count": 16,
   "metadata": {},
   "outputs": [
    {
     "data": {
      "text/plain": [
       "datetime.datetime(2023, 1, 25, 13, 55, 6, 866454)"
      ]
     },
     "execution_count": 16,
     "metadata": {},
     "output_type": "execute_result"
    }
   ],
   "source": [
    "# datetime.now().strftime(format = '%Y-%m-%d %H:%M:%S')\n",
    "datetime.now()"
   ]
  },
  {
   "cell_type": "code",
   "execution_count": 25,
   "metadata": {},
   "outputs": [
    {
     "data": {
      "text/plain": [
       "'2023-01-25 20:32:07.692704'"
      ]
     },
     "execution_count": 25,
     "metadata": {},
     "output_type": "execute_result"
    }
   ],
   "source": [
    "datetime.utcnow().strftime('%Y-%m-%d %H:%M:%S.%f')"
   ]
  }
 ],
 "metadata": {
  "kernelspec": {
   "display_name": "Python 3",
   "language": "python",
   "name": "python3"
  },
  "language_info": {
   "codemirror_mode": {
    "name": "ipython",
    "version": 3
   },
   "file_extension": ".py",
   "mimetype": "text/x-python",
   "name": "python",
   "nbconvert_exporter": "python",
   "pygments_lexer": "ipython3",
   "version": "3.8.10"
  },
  "orig_nbformat": 4,
  "vscode": {
   "interpreter": {
    "hash": "31f2aee4e71d21fbe5cf8b01ff0e069b9275f58929596ceb00d14d90e3e16cd6"
   }
  }
 },
 "nbformat": 4,
 "nbformat_minor": 2
}
